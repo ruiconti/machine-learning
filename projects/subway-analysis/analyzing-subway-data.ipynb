{
 "cells": [
  {
   "cell_type": "markdown",
   "metadata": {},
   "source": [
    "# Subway Data Analysis\n",
    "\n",
    "## Introduction\n",
    "\n",
    "O sistema de Ã´nibus e trens de Nova Iorque - o Metro Transit Authority - [fornece seus dados para download](http://web.mta.info/developers/developer-data-terms.html#data) atravÃ©s de  arquivos CSV. Dentre as informaÃ§Ãµes disponÃ­veis estÃ£o os **registros semanais de dados das catracas do metrÃ´**. \n",
    "\n",
    "\n",
    "Estes registros contÃ©m contagens cumulativas das entradas e saÃ­das, normalmente agrupadas em perÃ­odos de 4 horas, com dados adicionais que permitem identificar a estaÃ§Ã£o e catraca especÃ­fica correspondente a cada linha do arquivo. Neste projeto iremos utilizar um desses registros, mas nÃ£o precisa baixar nada agora! O primeiro exercÃ­cio serÃ¡ escrever um cÃ³digo Python para fazer isso por vocÃª :-)\n",
    "\n",
    "\n"
   ]
  },
  {
   "cell_type": "markdown",
   "metadata": {},
   "source": [
    "# Sobre este projeto\n",
    "\n",
    "Neste projeto vocÃª irÃ¡ aplicar todos os conhecimentos adquiridos neste primeiro mÃªs de curso, com tarefas bÃ¡sicas de aquisiÃ§Ã£o e limpeza de dados. No processo iremos descobrir informaÃ§Ãµes essenciais sobre os dados, utilizando o que foi aprendido no curso de estatÃ­stica. \n",
    "\n",
    "O objetivo deste projeto Ã© explorar a relaÃ§Ã£o entre os dados das catracas do metrÃ´ de Nova Iorque e o clima no dia da coleta. Para isso, alÃ©m dos dados do metrÃ´, precisaremos dos dados de clima da cidade de Nova Iorque. \n",
    "\n",
    "Os principais pontos que serÃ£o verificados neste trabalho:\n",
    "\n",
    "- Coleta de dados da internet\n",
    "- UtilizaÃ§Ã£o de estatÃ­stica para anÃ¡lise de dados\n",
    "- ManipulaÃ§Ã£o de dados e criaÃ§Ã£o de grÃ¡ficos simples com o `Pandas`\n",
    "\n",
    "*Como conseguir ajuda*: Sugerimos que busque apoio nos canais abaixo, na seguinte ordem de prioridade:\n",
    "\n",
    "| Tipo de dÃºvida\\Canais         \t| Google \t| FÃ³rum \t| Slack \t| Email \t|\n",
    "|-------------------------------\t|--------\t|-------\t|-------\t|-------\t|\n",
    "| ProgramaÃ§Ã£o Python e Pandas    \t| 1      \t| 2     \t| 3     \t|       \t|\n",
    "| Requisitos do projeto         \t|        \t| 1     \t| 2     \t| 3     \t|\n",
    "| Partes especÃ­ficas do Projeto \t|        \t| 1     \t| 2     \t| 3     \t|\n",
    "\n",
    "Os endereÃ§os dos canais sÃ£o:\n",
    "\n",
    "- FÃ³rum: https://discussions.udacity.com/c/ndfdsi-project\n",
    "- Slack: [udacity-br.slack.com](https://udacity-br.slack.com/messages/C5MT6E3E1)\n",
    "- Email: data-suporte@udacity.com\n",
    "\n",
    "**Espera-se que o estudante entregue este relatÃ³rio com:**\n",
    "\n",
    "- Todos os exercÃ­cios feitos, com atenÃ§Ã£o especial para os trechos de cÃ³digo a completar (sinalizados com `# your code here`), pois eles sÃ£o essenciais para que o cÃ³digo rode corretamente\n",
    "- O arquivo ipynb exportado como HTML\n",
    "\n",
    "Para entregar este projeto envie este `.ipynb` preenchido e o HTML, zipados, na pÃ¡gina correspondente da sala de aula."
   ]
  },
  {
   "cell_type": "markdown",
   "metadata": {},
   "source": [
    "# Sobre o dataset\n",
    "\n",
    "DescriÃ§Ã£o das colunas\n",
    "<pre>\n",
    "C/A,UNIT,SCP,STATION,LINENAME,DIVISION,DATE,TIME,DESC,ENTRIES,EXITS\n",
    "  \n",
    "C/A      = Agrupamento de catracas de que a catraca faz parte (_Control Area_)\n",
    "UNIT     = Cabine de controle associada Ã  estaÃ§Ã£o onde a catraca se encontra (_Remote Unit for a station_)\n",
    "SCP      = EndereÃ§o especÃ­fico da catraca (_Subunit Channel Position_)\n",
    "STATION  = Nome da estaÃ§Ã£o onde a catraca se encontra\n",
    "LINENAME = CÃ³digo representando todas linhas que passam na estaÃ§Ã£o*\n",
    "DIVISION = CÃ³digo representando a concessionÃ¡ria original da linha, antes da prefeitura assumir a gestÃ£o   \n",
    "DATE     = Representa a data (no formato MM-DD-YY) do evento de auditoria agendado\n",
    "TIME     = Representa o horÃ¡rio (hh:mm:ss) do evento de auditoria agendado\n",
    "DESc     = Descreve o tipo de evento de auditoria registrado:\n",
    "           1. \"REGULAR\" representando um evento de auditoria padrÃ£o, em que a contagem Ã© feita a cada 4 horas\n",
    "           2. \"RECOVR AUD\" significa que o valor especÃ­fico estava perdido, mas foi recuperado posteriormente \n",
    "           3. Diversos cÃ³digos sinalizam situaÃ§Ãµes em que auditorias sÃ£o mais frequentes devido a atividades de\n",
    "              planejamento ou soluÃ§Ã£o de problemas. \n",
    "ENTRIES  = A contagem cumulativa de entradas associadas Ã  catraca desde o Ãºltimo registro\n",
    "EXITS    = A contagem cumulativa de saÃ­das associadas Ã  catraca desde o Ãºltimo registro\n",
    "\n",
    "*  Normalmente as linhas sÃ£o representadas por um caractere. LINENAME 456NQR significa que os trens 4, 5, 6, N, Q e R passam pela estaÃ§Ã£o.\n",
    "</pre>"
   ]
  },
  {
   "cell_type": "markdown",
   "metadata": {},
   "source": [
    "# Lembretes\n",
    "\n",
    "Antes de comeÃ§armos, alguns lembretes devem ter em mente ao usar os notebooks iPython:\n",
    "\n",
    "- Lembre-se de que vocÃª pode ver do lado esquerdo de uma cÃ©lula de cÃ³digo quando foi executado pela Ãºltima vez se houver um nÃºmero dentro das chaves.\n",
    "- Quando vocÃª inicia uma nova sessÃ£o do notebook, certifique-se de executar todas as cÃ©lulas atÃ© o ponto em que vocÃª deixou a Ãºltima vez. Mesmo que a saÃ­da ainda seja visÃ­vel a partir de quando vocÃª executou as cÃ©lulas em sua sessÃ£o anterior, o kernel comeÃ§a em um estado novo, entÃ£o vocÃª precisarÃ¡ recarregar os dados, etc. em uma nova sessÃ£o.\n",
    "- O ponto anterior Ã© Ãºtil para ter em mente se suas respostas nÃ£o correspondem ao que Ã© esperado nos questionÃ¡rios da aula. Tente recarregar os dados e execute todas as etapas de processamento um a um para garantir que vocÃª esteja trabalhando com as mesmas variÃ¡veis e dados que estÃ£o em cada fase do questionÃ¡rio."
   ]
  },
  {
   "cell_type": "markdown",
   "metadata": {},
   "source": [
    "## SeÃ§Ã£o 1 - Coleta de Dados\n",
    "\n",
    "### *Exercicio 1.1*\n",
    "\n",
    "Mãos a obra! Agora é sua vez de coletar os dados. Escreve um código python que acesse o link http://web.mta.info/developers/turnstile.html e baixe os arquivos do mês de **junho de 2017**. O arquivo deverá ser salvo com o nome `turnstile_170610.txt` onde `10/06/17` é a data do arquivo.\n",
    "\n",
    "<blockquote>\n",
    "    <p>Caso o site esteja fora do ar, use essa url:</p>\n",
    "    <p>https://s3.amazonaws.com/video.udacity-data.com/topher/2018/November/5bf32290_turnstile/turnstile.html</p>\n",
    "</blockquote>\n",
    "\n",
    "Abaixo seguem alguns comandos que poderão te ajudar:\n",
    "\n",
    "Utilize a biblioteca **urllib** para abrir e resgatar uma página da web. Utilize o comando abaixo onde **url** será o caminho da páina da web onde se encontra o arquivo:\n",
    "\n",
    "```python\n",
    "u = urllib.urlopen(url)\n",
    "html = u.read()\n",
    "```\n",
    "\n",
    "Utilize a biblioteca **BeautifulSoup** para procurar na página pelo link do arquivo que deseja baixar. Utilize o comando abaixo para criar o seu objeto *soup* e procurar por todas as tags `'a'` no documento:\n",
    " \n",
    " \n",
    "```python\n",
    "soup = BeautifulSoup(html, \"html.parser\")\n",
    "links = soup.find_all('a')\n",
    "```\n",
    "\n",
    "Uma dica para baixar apenas os arquivos do mêss de junho é verificar a data no nome do arquivo. Por exemplo, para baixar o arquivo do dia 17/06/2017 verifique se o link termina com `\"turnstile_170610.txt\"`. Se não fizer isso você baixará todos os arquivos da página. Para fazer isso utilize o comando conforme abaixo:\n",
    "\n",
    "```python\n",
    "if '1706' in link.get('href'):\n",
    "```\n",
    "\n",
    "E a dica final é utilizar o comando abaixo para fazer o download do arquivo txt:\n",
    "\n",
    "```python\n",
    "urllib.urlretrieve(link_do_arquivo, filename)\n",
    "```\n",
    "\n",
    "Lembre-se, primeiro, carregue todos os pacotes e funções que você estará usando em sua análise."
   ]
  },
  {
   "cell_type": "code",
   "execution_count": 7,
   "metadata": {},
   "outputs": [],
   "source": [
    "import sys\n",
    "import time\n",
    "\n",
    "def show_progress(count, block_size, total_size):\n",
    "    global start_time\n",
    "    if count == 0:\n",
    "        start_time = time.time()\n",
    "        return\n",
    "    duration = time.time() - start_time\n",
    "    \n",
    "    progress_size = int(count * block_size)\n",
    "    speed = int(progress_size / (1024 * duration))\n",
    "    percent = int(count * block_size * 100 / total_size)\n",
    "    sys.stdout.write(\"\\r...%d%%, %d MB, %d KB/s, %d seconds passed\" %\n",
    "                    (percent, progress_size / (1024 * 1024), speed, duration))\n",
    "    sys.stdout.flush()"
   ]
  },
  {
   "cell_type": "markdown",
   "metadata": {},
   "source": [
    "Validando o input:"
   ]
  },
  {
   "cell_type": "code",
   "execution_count": 8,
   "metadata": {},
   "outputs": [],
   "source": [
    "import datetime\n",
    "\n",
    "def monthly_input_validation(month: str):\n",
    "    import datetime\n",
    "    \n",
    "    try:\n",
    "        datetime.datetime.strptime(month, '%y%m')\n",
    "    except ValueError as ex:\n",
    "        raise"
   ]
  },
  {
   "cell_type": "code",
   "execution_count": 9,
   "metadata": {},
   "outputs": [
    {
     "name": "stdout",
     "output_type": "stream",
     "text": [
      "Search begun, please wait\n",
      "...100%, 24 MB, 1043 KB/s, 24 seconds passed\n",
      "Downloaded turnstile-170624.txt\n",
      "...100%, 24 MB, 1062 KB/s, 23 seconds passed\n",
      "Downloaded turnstile-170617.txt\n",
      "...100%, 24 MB, 1520 KB/s, 16 seconds passed\n",
      "Downloaded turnstile-170610.txt\n",
      "...100%, 24 MB, 734 KB/s, 34 seconds passed\n",
      "Downloaded turnstile-170603.txt\n"
     ]
    }
   ],
   "source": [
    "import re\n",
    "from urllib import request\n",
    "from bs4 import BeautifulSoup\n",
    "\n",
    "url = 'https://s3.amazonaws.com/video.udacity-data.com/topher/2018/November/5bf32290_turnstile/turnstile.html'\n",
    "response = request.urlopen(url)\n",
    "response_html = response.read()\n",
    "soup = BeautifulSoup(response_html, 'html.parser')\n",
    "links = soup.find_all('a')\n",
    "\n",
    "# date as YYMM\n",
    "MONTH = '1706'\n",
    "\n",
    "def get_monthly_data(html, month: str) -> list:\n",
    "    import sys\n",
    "    monthly_input_validation(month)\n",
    "    \n",
    "    soup = BeautifulSoup(html, 'html.parser')\n",
    "    links = soup.find_all('a')\n",
    "    \n",
    "    file_names = []\n",
    "    print('Search begun, please wait')\n",
    "    for link in links:\n",
    "        day_url = str(link.get('href'))\n",
    "        if day_url.__contains__(month):\n",
    "            file_name = day_url.replace('https://','').split('/')[-1]\n",
    "            request.urlretrieve(day_url, file_name, show_progress)\n",
    "            print(f'\\nDownloaded {file_name}')\n",
    "            file_names.append(file_name)\n",
    "    return file_names\n",
    "            \n",
    "#request.urlretrieve('https://s3.amazonaws.com/video.udacity-data.com/topher/2018/November/5bf2fab0_turnstile-170610/turnstile-170610.txt', 'file.txt')\n",
    "#print(link.get('href'))\n",
    "files = get_monthly_data(response_html, '1706')"
   ]
  },
  {
   "cell_type": "code",
   "execution_count": 10,
   "metadata": {},
   "outputs": [
    {
     "data": {
      "text/plain": [
       "['turnstile-170624.txt',\n",
       " 'turnstile-170617.txt',\n",
       " 'turnstile-170610.txt',\n",
       " 'turnstile-170603.txt']"
      ]
     },
     "execution_count": 10,
     "metadata": {},
     "output_type": "execute_result"
    }
   ],
   "source": [
    "files"
   ]
  },
  {
   "cell_type": "markdown",
   "metadata": {},
   "source": [
    "### *Exercicio 1.2*\n",
    "\n",
    "Escreva uma função que pegue a lista de nomes dos arquivos que você baixou no exercicio 1.1 e consolide-os em um único arquivo. Deve existir apenas uma linha de cabeçalho no arquivo de saida. \n",
    "\n",
    "Por exemplo, se o `arquivo_1` tiver:\n",
    "```\n",
    "linha 1...\n",
    "linha 2...\n",
    "```\n",
    "\n",
    "e o outro arquivo, `arquivo_2` tiver:\n",
    "```\n",
    "linha 3...\n",
    "linha 4...\n",
    "linha 5...\n",
    "```\n",
    "\n",
    "Devemos combinar o `arquivo_1` com `arquivo_2` em um arquivo mestre conforme abaixo:\n",
    "\n",
    "```\n",
    "'C/A, UNIT, SCP, DATEn, TIMEn, DESCn, ENTRIESn, EXITSn'\n",
    "linha 1...\n",
    "linha 2...\n",
    "linha 3...\n",
    "linha 4...\n",
    "linha 5...\n",
    "```\n",
    "\n",
    "**OBS:** Note que algumas colunas foram descartadas!"
   ]
  },
  {
   "cell_type": "code",
   "execution_count": 14,
   "metadata": {
    "collapsed": true
   },
   "outputs": [
    {
     "name": "stdout",
     "output_type": "stream",
     "text": [
      "Written 788214 lines of data on masterfile.txt\n"
     ]
    }
   ],
   "source": [
    "def create_master_turnstile_file(filenames, output_file):\n",
    "    count = 0\n",
    "    with open(output_file, 'w') as master_file:\n",
    "        master_file.write('C/A,UNIT,SCP,DATEn,TIMEn,DESCn,ENTRIESn,EXITSn\\n')\n",
    "        for filename in filenames:\n",
    "            with open(filename, 'r') as input_file:\n",
    "                input_file.readline()\n",
    "                for line in input_file.readlines():\n",
    "                    master_file.write(line)\n",
    "                    count += 1\n",
    "    print(f'Written {count} lines of data on {output_file}')\n",
    "                        \n",
    "create_master_turnstile_file(files, 'masterfile.txt')"
   ]
  },
  {
   "cell_type": "markdown",
   "metadata": {},
   "source": [
    "### *Exercicio 1.3*\n",
    "\n",
    "Neste exercício, escreva um função que leia o `master_file` criado no exercicio anterior e carregue-o em um pandas dataframe. Esta função deve filtrar para que o dataframe possua apenas linhas onde a coluna \"DESCn\" possua o valor \"Regular\".\n",
    "\n",
    "Por exemplo, se o data frame do pandas estiver conforme abaixo:\n",
    "    \n",
    "    ,C/A,UNIT,SCP,DATEn,TIMEn,DESCn,ENTRIESn,EXITSn\n",
    "    0,A002,R051,02-00-00,05-01-11,00:00:00,REGULAR,3144312,1088151\n",
    "    1,A002,R051,02-00-00,05-01-11,04:00:00,DOOR,3144335,1088159\n",
    "    2,A002,R051,02-00-00,05-01-11,08:00:00,REGULAR,3144353,1088177\n",
    "    3,A002,R051,02-00-00,05-01-11,12:00:00,DOOR,3144424,1088231\n",
    "\n",
    "O dataframe deverá ficar conforme abaixo depois de **filtrar apenas as linhas onde a coluna DESCn possua o valor REGULAR**:\n",
    "\n",
    "    0,A002,R051,02-00-00,05-01-11,00:00:00,REGULAR,3144312,1088151\n",
    "    2,A002,R051,02-00-00,05-01-11,08:00:00,REGULAR,3144353,1088177\n"
   ]
  },
  {
   "cell_type": "code",
   "execution_count": 12,
   "metadata": {
    "collapsed": true
   },
   "outputs": [
    {
     "data": {
      "text/html": [
       "<div>\n",
       "<style scoped>\n",
       "    .dataframe tbody tr th:only-of-type {\n",
       "        vertical-align: middle;\n",
       "    }\n",
       "\n",
       "    .dataframe tbody tr th {\n",
       "        vertical-align: top;\n",
       "    }\n",
       "\n",
       "    .dataframe thead th {\n",
       "        text-align: right;\n",
       "    }\n",
       "</style>\n",
       "<table border=\"1\" class=\"dataframe\">\n",
       "  <thead>\n",
       "    <tr style=\"text-align: right;\">\n",
       "      <th></th>\n",
       "      <th></th>\n",
       "      <th></th>\n",
       "      <th>C/A</th>\n",
       "      <th>UNIT</th>\n",
       "      <th>SCP</th>\n",
       "      <th>DATEn</th>\n",
       "      <th>TIMEn</th>\n",
       "      <th>DESCn</th>\n",
       "      <th>ENTRIESn</th>\n",
       "      <th>EXITSn</th>\n",
       "    </tr>\n",
       "  </thead>\n",
       "  <tbody>\n",
       "    <tr>\n",
       "      <th rowspan=\"5\" valign=\"top\">A002</th>\n",
       "      <th rowspan=\"5\" valign=\"top\">R051</th>\n",
       "      <th>02-00-00</th>\n",
       "      <td>59 ST</td>\n",
       "      <td>NQR456W</td>\n",
       "      <td>BMT</td>\n",
       "      <td>06/17/2017</td>\n",
       "      <td>00:00:00</td>\n",
       "      <td>REGULAR</td>\n",
       "      <td>6224816</td>\n",
       "      <td>2107317</td>\n",
       "    </tr>\n",
       "    <tr>\n",
       "      <th>02-00-00</th>\n",
       "      <td>59 ST</td>\n",
       "      <td>NQR456W</td>\n",
       "      <td>BMT</td>\n",
       "      <td>06/17/2017</td>\n",
       "      <td>04:00:00</td>\n",
       "      <td>REGULAR</td>\n",
       "      <td>6224850</td>\n",
       "      <td>2107322</td>\n",
       "    </tr>\n",
       "    <tr>\n",
       "      <th>02-00-00</th>\n",
       "      <td>59 ST</td>\n",
       "      <td>NQR456W</td>\n",
       "      <td>BMT</td>\n",
       "      <td>06/17/2017</td>\n",
       "      <td>08:00:00</td>\n",
       "      <td>REGULAR</td>\n",
       "      <td>6224885</td>\n",
       "      <td>2107352</td>\n",
       "    </tr>\n",
       "    <tr>\n",
       "      <th>02-00-00</th>\n",
       "      <td>59 ST</td>\n",
       "      <td>NQR456W</td>\n",
       "      <td>BMT</td>\n",
       "      <td>06/17/2017</td>\n",
       "      <td>12:00:00</td>\n",
       "      <td>REGULAR</td>\n",
       "      <td>6225005</td>\n",
       "      <td>2107452</td>\n",
       "    </tr>\n",
       "    <tr>\n",
       "      <th>02-00-00</th>\n",
       "      <td>59 ST</td>\n",
       "      <td>NQR456W</td>\n",
       "      <td>BMT</td>\n",
       "      <td>06/17/2017</td>\n",
       "      <td>16:00:00</td>\n",
       "      <td>REGULAR</td>\n",
       "      <td>6225248</td>\n",
       "      <td>2107513</td>\n",
       "    </tr>\n",
       "  </tbody>\n",
       "</table>\n",
       "</div>"
      ],
      "text/plain": [
       "                      C/A     UNIT  SCP       DATEn     TIMEn    DESCn  \\\n",
       "A002 R051 02-00-00  59 ST  NQR456W  BMT  06/17/2017  00:00:00  REGULAR   \n",
       "          02-00-00  59 ST  NQR456W  BMT  06/17/2017  04:00:00  REGULAR   \n",
       "          02-00-00  59 ST  NQR456W  BMT  06/17/2017  08:00:00  REGULAR   \n",
       "          02-00-00  59 ST  NQR456W  BMT  06/17/2017  12:00:00  REGULAR   \n",
       "          02-00-00  59 ST  NQR456W  BMT  06/17/2017  16:00:00  REGULAR   \n",
       "\n",
       "                    ENTRIESn   EXITSn  \n",
       "A002 R051 02-00-00   6224816  2107317  \n",
       "          02-00-00   6224850  2107322  \n",
       "          02-00-00   6224885  2107352  \n",
       "          02-00-00   6225005  2107452  \n",
       "          02-00-00   6225248  2107513  "
      ]
     },
     "execution_count": 12,
     "metadata": {},
     "output_type": "execute_result"
    }
   ],
   "source": [
    "import pandas as pd\n",
    "\n",
    "def filter_by_regular(filename):\n",
    "    df = pd.read_csv(filename)\n",
    "    expression = df['DESCn'] == 'REGULAR'\n",
    "    df_out = df.loc[expression]\n",
    "    return df_out\n",
    "\n",
    "df = filter_by_regular('masterfile.txt')\n",
    "df.head()"
   ]
  },
  {
   "cell_type": "markdown",
   "metadata": {},
   "source": [
    "### *Exercicio 1.4*\n",
    "\n",
    "\n",
    "Os dados do metrô de NY possui dados cumulativos de entradas e saidas por linha. Assuma que você possui um dataframe chamado `df` que contém apenas linhas para uma catraca em particular (único SCP, C/A, e UNIT). A função abaixo deve alterar essas entradas cumulativas para a contagem de entradas desde a última leitura (entradas desde a última linha do `dataframe`).\n",
    "\n",
    "Mais especificamente, você deverá fazer duas coisas:\n",
    "\n",
    "1. Criar uma nova coluna chamada `ENTRIESn_hourly`\n",
    "\n",
    "2. Inserir nessa coluna a diferença entre ENTRIESn da linha atual e a da linha anterior. Se a linha possuir alguma NAN, preencha/substitua por 1.\n",
    "\n",
    "Dica: as funções do pandas `shift()` e `fillna()` pode ser úteis nesse exercício.\n",
    "\n",
    "Abaixo tem um exemplo de como seu dataframe deve ficar ao final desse exercício:\n",
    "\n",
    "           C/A  UNIT       SCP     DATEn     TIMEn    DESCn  ENTRIESn    EXITSn  ENTRIESn_hourly\n",
    "    0     A002  R051  02-00-00  05-01-11  00:00:00  REGULAR   3144312   1088151                1\n",
    "    1     A002  R051  02-00-00  05-01-11  04:00:00  REGULAR   3144335   1088159               23\n",
    "    2     A002  R051  02-00-00  05-01-11  08:00:00  REGULAR   3144353   1088177               18\n",
    "    3     A002  R051  02-00-00  05-01-11  12:00:00  REGULAR   3144424   1088231               71\n",
    "    4     A002  R051  02-00-00  05-01-11  16:00:00  REGULAR   3144594   1088275              170\n",
    "    5     A002  R051  02-00-00  05-01-11  20:00:00  REGULAR   3144808   1088317              214\n",
    "    6     A002  R051  02-00-00  05-02-11  00:00:00  REGULAR   3144895   1088328               87\n",
    "    7     A002  R051  02-00-00  05-02-11  04:00:00  REGULAR   3144905   1088331               10\n",
    "    8     A002  R051  02-00-00  05-02-11  08:00:00  REGULAR   3144941   1088420               36\n",
    "    9     A002  R051  02-00-00  05-02-11  12:00:00  REGULAR   3145094   1088753              153\n",
    "    10    A002  R051  02-00-00  05-02-11  16:00:00  REGULAR   3145337   1088823              243"
   ]
  },
  {
   "cell_type": "code",
   "execution_count": 15,
   "metadata": {
    "collapsed": true
   },
   "outputs": [
    {
     "data": {
      "text/html": [
       "<div>\n",
       "<style scoped>\n",
       "    .dataframe tbody tr th:only-of-type {\n",
       "        vertical-align: middle;\n",
       "    }\n",
       "\n",
       "    .dataframe tbody tr th {\n",
       "        vertical-align: top;\n",
       "    }\n",
       "\n",
       "    .dataframe thead th {\n",
       "        text-align: right;\n",
       "    }\n",
       "</style>\n",
       "<table border=\"1\" class=\"dataframe\">\n",
       "  <thead>\n",
       "    <tr style=\"text-align: right;\">\n",
       "      <th></th>\n",
       "      <th></th>\n",
       "      <th></th>\n",
       "      <th>C/A</th>\n",
       "      <th>UNIT</th>\n",
       "      <th>SCP</th>\n",
       "      <th>DATEn</th>\n",
       "      <th>TIMEn</th>\n",
       "      <th>DESCn</th>\n",
       "      <th>ENTRIESn</th>\n",
       "      <th>EXITSn</th>\n",
       "      <th>ENTRIESn_hourly</th>\n",
       "    </tr>\n",
       "  </thead>\n",
       "  <tbody>\n",
       "    <tr>\n",
       "      <th rowspan=\"5\" valign=\"top\">A002</th>\n",
       "      <th rowspan=\"5\" valign=\"top\">R051</th>\n",
       "      <th>02-00-00</th>\n",
       "      <td>59 ST</td>\n",
       "      <td>NQR456W</td>\n",
       "      <td>BMT</td>\n",
       "      <td>06/17/2017</td>\n",
       "      <td>00:00:00</td>\n",
       "      <td>REGULAR</td>\n",
       "      <td>6224816</td>\n",
       "      <td>2107317</td>\n",
       "      <td>1.0</td>\n",
       "    </tr>\n",
       "    <tr>\n",
       "      <th>02-00-00</th>\n",
       "      <td>59 ST</td>\n",
       "      <td>NQR456W</td>\n",
       "      <td>BMT</td>\n",
       "      <td>06/17/2017</td>\n",
       "      <td>04:00:00</td>\n",
       "      <td>REGULAR</td>\n",
       "      <td>6224850</td>\n",
       "      <td>2107322</td>\n",
       "      <td>34.0</td>\n",
       "    </tr>\n",
       "    <tr>\n",
       "      <th>02-00-00</th>\n",
       "      <td>59 ST</td>\n",
       "      <td>NQR456W</td>\n",
       "      <td>BMT</td>\n",
       "      <td>06/17/2017</td>\n",
       "      <td>08:00:00</td>\n",
       "      <td>REGULAR</td>\n",
       "      <td>6224885</td>\n",
       "      <td>2107352</td>\n",
       "      <td>35.0</td>\n",
       "    </tr>\n",
       "    <tr>\n",
       "      <th>02-00-00</th>\n",
       "      <td>59 ST</td>\n",
       "      <td>NQR456W</td>\n",
       "      <td>BMT</td>\n",
       "      <td>06/17/2017</td>\n",
       "      <td>12:00:00</td>\n",
       "      <td>REGULAR</td>\n",
       "      <td>6225005</td>\n",
       "      <td>2107452</td>\n",
       "      <td>120.0</td>\n",
       "    </tr>\n",
       "    <tr>\n",
       "      <th>02-00-00</th>\n",
       "      <td>59 ST</td>\n",
       "      <td>NQR456W</td>\n",
       "      <td>BMT</td>\n",
       "      <td>06/17/2017</td>\n",
       "      <td>16:00:00</td>\n",
       "      <td>REGULAR</td>\n",
       "      <td>6225248</td>\n",
       "      <td>2107513</td>\n",
       "      <td>243.0</td>\n",
       "    </tr>\n",
       "  </tbody>\n",
       "</table>\n",
       "</div>"
      ],
      "text/plain": [
       "                      C/A     UNIT  SCP       DATEn     TIMEn    DESCn  \\\n",
       "A002 R051 02-00-00  59 ST  NQR456W  BMT  06/17/2017  00:00:00  REGULAR   \n",
       "          02-00-00  59 ST  NQR456W  BMT  06/17/2017  04:00:00  REGULAR   \n",
       "          02-00-00  59 ST  NQR456W  BMT  06/17/2017  08:00:00  REGULAR   \n",
       "          02-00-00  59 ST  NQR456W  BMT  06/17/2017  12:00:00  REGULAR   \n",
       "          02-00-00  59 ST  NQR456W  BMT  06/17/2017  16:00:00  REGULAR   \n",
       "\n",
       "                    ENTRIESn   EXITSn  ENTRIESn_hourly  \n",
       "A002 R051 02-00-00   6224816  2107317              1.0  \n",
       "          02-00-00   6224850  2107322             34.0  \n",
       "          02-00-00   6224885  2107352             35.0  \n",
       "          02-00-00   6225005  2107452            120.0  \n",
       "          02-00-00   6225248  2107513            243.0  "
      ]
     },
     "execution_count": 15,
     "metadata": {},
     "output_type": "execute_result"
    }
   ],
   "source": [
    "# generic from next exercise:\n",
    "def get_hourly_metric(df, column, fill_na):\n",
    "    \"\"\"No type nor semantic checking\"\"\"\n",
    "    df[f'{column}_hourly'] = df[column].diff().apply(lambda x: x if not pd.isna(x) else fill_na)\n",
    "    return df\n",
    "\n",
    "def get_hourly_entries(df):\n",
    "    return get_hourly_metric(df, 'ENTRIESn', 1.0)\n",
    "\n",
    "df = get_hourly_entries(df)\n",
    "df.head()"
   ]
  },
  {
   "cell_type": "markdown",
   "metadata": {},
   "source": [
    "### *Exercicio 1.5*\n",
    "\n",
    "Faça o mesmo do exercicio anterior mas agora considerando as saidas, coluna `EXITSn`.\n",
    "Para isso crie uma coluna chamada de `EXITSn_hourly` e insira a diferençaa entre a coluna `EXITSn` da linha atual versus a linha anterior. Se tiver algum `NaN`, preencha/substitua por 0."
   ]
  },
  {
   "cell_type": "code",
   "execution_count": 16,
   "metadata": {
    "collapsed": true
   },
   "outputs": [
    {
     "data": {
      "text/html": [
       "<div>\n",
       "<style scoped>\n",
       "    .dataframe tbody tr th:only-of-type {\n",
       "        vertical-align: middle;\n",
       "    }\n",
       "\n",
       "    .dataframe tbody tr th {\n",
       "        vertical-align: top;\n",
       "    }\n",
       "\n",
       "    .dataframe thead th {\n",
       "        text-align: right;\n",
       "    }\n",
       "</style>\n",
       "<table border=\"1\" class=\"dataframe\">\n",
       "  <thead>\n",
       "    <tr style=\"text-align: right;\">\n",
       "      <th></th>\n",
       "      <th></th>\n",
       "      <th></th>\n",
       "      <th>C/A</th>\n",
       "      <th>UNIT</th>\n",
       "      <th>SCP</th>\n",
       "      <th>DATEn</th>\n",
       "      <th>TIMEn</th>\n",
       "      <th>DESCn</th>\n",
       "      <th>ENTRIESn</th>\n",
       "      <th>EXITSn</th>\n",
       "      <th>ENTRIESn_hourly</th>\n",
       "      <th>EXITSn_hourly</th>\n",
       "    </tr>\n",
       "  </thead>\n",
       "  <tbody>\n",
       "    <tr>\n",
       "      <th rowspan=\"5\" valign=\"top\">A002</th>\n",
       "      <th rowspan=\"5\" valign=\"top\">R051</th>\n",
       "      <th>02-00-00</th>\n",
       "      <td>59 ST</td>\n",
       "      <td>NQR456W</td>\n",
       "      <td>BMT</td>\n",
       "      <td>06/17/2017</td>\n",
       "      <td>00:00:00</td>\n",
       "      <td>REGULAR</td>\n",
       "      <td>6224816</td>\n",
       "      <td>2107317</td>\n",
       "      <td>1.0</td>\n",
       "      <td>0.0</td>\n",
       "    </tr>\n",
       "    <tr>\n",
       "      <th>02-00-00</th>\n",
       "      <td>59 ST</td>\n",
       "      <td>NQR456W</td>\n",
       "      <td>BMT</td>\n",
       "      <td>06/17/2017</td>\n",
       "      <td>04:00:00</td>\n",
       "      <td>REGULAR</td>\n",
       "      <td>6224850</td>\n",
       "      <td>2107322</td>\n",
       "      <td>34.0</td>\n",
       "      <td>5.0</td>\n",
       "    </tr>\n",
       "    <tr>\n",
       "      <th>02-00-00</th>\n",
       "      <td>59 ST</td>\n",
       "      <td>NQR456W</td>\n",
       "      <td>BMT</td>\n",
       "      <td>06/17/2017</td>\n",
       "      <td>08:00:00</td>\n",
       "      <td>REGULAR</td>\n",
       "      <td>6224885</td>\n",
       "      <td>2107352</td>\n",
       "      <td>35.0</td>\n",
       "      <td>30.0</td>\n",
       "    </tr>\n",
       "    <tr>\n",
       "      <th>02-00-00</th>\n",
       "      <td>59 ST</td>\n",
       "      <td>NQR456W</td>\n",
       "      <td>BMT</td>\n",
       "      <td>06/17/2017</td>\n",
       "      <td>12:00:00</td>\n",
       "      <td>REGULAR</td>\n",
       "      <td>6225005</td>\n",
       "      <td>2107452</td>\n",
       "      <td>120.0</td>\n",
       "      <td>100.0</td>\n",
       "    </tr>\n",
       "    <tr>\n",
       "      <th>02-00-00</th>\n",
       "      <td>59 ST</td>\n",
       "      <td>NQR456W</td>\n",
       "      <td>BMT</td>\n",
       "      <td>06/17/2017</td>\n",
       "      <td>16:00:00</td>\n",
       "      <td>REGULAR</td>\n",
       "      <td>6225248</td>\n",
       "      <td>2107513</td>\n",
       "      <td>243.0</td>\n",
       "      <td>61.0</td>\n",
       "    </tr>\n",
       "  </tbody>\n",
       "</table>\n",
       "</div>"
      ],
      "text/plain": [
       "                      C/A     UNIT  SCP       DATEn     TIMEn    DESCn  \\\n",
       "A002 R051 02-00-00  59 ST  NQR456W  BMT  06/17/2017  00:00:00  REGULAR   \n",
       "          02-00-00  59 ST  NQR456W  BMT  06/17/2017  04:00:00  REGULAR   \n",
       "          02-00-00  59 ST  NQR456W  BMT  06/17/2017  08:00:00  REGULAR   \n",
       "          02-00-00  59 ST  NQR456W  BMT  06/17/2017  12:00:00  REGULAR   \n",
       "          02-00-00  59 ST  NQR456W  BMT  06/17/2017  16:00:00  REGULAR   \n",
       "\n",
       "                    ENTRIESn   EXITSn  ENTRIESn_hourly  EXITSn_hourly  \n",
       "A002 R051 02-00-00   6224816  2107317              1.0            0.0  \n",
       "          02-00-00   6224850  2107322             34.0            5.0  \n",
       "          02-00-00   6224885  2107352             35.0           30.0  \n",
       "          02-00-00   6225005  2107452            120.0          100.0  \n",
       "          02-00-00   6225248  2107513            243.0           61.0  "
      ]
     },
     "execution_count": 16,
     "metadata": {},
     "output_type": "execute_result"
    }
   ],
   "source": [
    "def get_hourly_exits(df):\n",
    "    return get_hourly_metric(df, 'EXITSn', 0.0)\n",
    "\n",
    "df = get_hourly_exits(df)\n",
    "df.head()"
   ]
  },
  {
   "cell_type": "markdown",
   "metadata": {},
   "source": [
    "### *Exercicio 1.6*\n",
    "\n",
    "Dado uma variáel de entrada que representa o tempo no formato de:\n",
    "\n",
    "Â Â Â Â  \"00:00:00\" (hora: minutos: segundos)\n",
    "Â Â Â Â \n",
    "\n",
    "Escreva uma função para extrair a parte da hora do tempo variável de entrada\n",
    "\n",
    "E devolva-o como um número inteiro. Por exemplo:\n",
    "\n",
    "Â Â Â Â Â Â Â Â  \n",
    "\n",
    "1. se a hora for 00, seu código deve retornar 0\n",
    "2. se a hora for 01, seu código deve retornar 1\n",
    "3. se a hora for 21, seu código deve retornar 21\n",
    "\n",
    "Â Â Â Â Â Â Â Â \n",
    "Por favor, devolva a hora como um número inteiro.\n"
   ]
  },
  {
   "cell_type": "code",
   "execution_count": 17,
   "metadata": {
    "collapsed": true
   },
   "outputs": [
    {
     "data": {
      "text/plain": [
       "16"
      ]
     },
     "execution_count": 17,
     "metadata": {},
     "output_type": "execute_result"
    }
   ],
   "source": [
    "def time_to_hour(time):\n",
    "    hour = int(time[:2])\n",
    "    return hour\n",
    "\n",
    "time_to_hour('16:32:59')"
   ]
  },
  {
   "cell_type": "markdown",
   "metadata": {},
   "source": [
    "## Exercicio 2 - AnÃ¡lise dos dados\n",
    "\n",
    "### *Exercicio 2.1*\n",
    "\n",
    "Para verificar a relação entre o movimento do metrô e o clima, precisaremos complementar os dados do arquivo já baixado com os dados do clima. Nós complementamos para você este arquivo com os dados de clima de Nova Iorque e disponibilizamos na área de materiais do projeto. Você pode acessa-lo pelo link: https://s3.amazonaws.com/content.udacity-data.com/courses/ud359/turnstile_data_master_with_weather.csv\n",
    "\n",
    "Agora que temos nossos dados em um arquivo csv, escreva um código python que leia este arquivo e salve-o em um data frame do pandas. \n",
    "\n",
    "Dica: \n",
    "\n",
    "Utilize o comando abaixo para ler o arquivo:\n",
    "\n",
    "```python\n",
    "pd.read_csv('output_list.txt', sep=\",\")\n",
    "```\n",
    "\n"
   ]
  },
  {
   "cell_type": "code",
   "execution_count": 18,
   "metadata": {},
   "outputs": [
    {
     "data": {
      "text/html": [
       "<div>\n",
       "<style scoped>\n",
       "    .dataframe tbody tr th:only-of-type {\n",
       "        vertical-align: middle;\n",
       "    }\n",
       "\n",
       "    .dataframe tbody tr th {\n",
       "        vertical-align: top;\n",
       "    }\n",
       "\n",
       "    .dataframe thead th {\n",
       "        text-align: right;\n",
       "    }\n",
       "</style>\n",
       "<table border=\"1\" class=\"dataframe\">\n",
       "  <thead>\n",
       "    <tr style=\"text-align: right;\">\n",
       "      <th></th>\n",
       "      <th>Unnamed: 0</th>\n",
       "      <th>UNIT</th>\n",
       "      <th>DATEn</th>\n",
       "      <th>TIMEn</th>\n",
       "      <th>Hour</th>\n",
       "      <th>DESCn</th>\n",
       "      <th>ENTRIESn_hourly</th>\n",
       "      <th>EXITSn_hourly</th>\n",
       "      <th>maxpressurei</th>\n",
       "      <th>maxdewpti</th>\n",
       "      <th>...</th>\n",
       "      <th>meandewpti</th>\n",
       "      <th>meanpressurei</th>\n",
       "      <th>fog</th>\n",
       "      <th>rain</th>\n",
       "      <th>meanwindspdi</th>\n",
       "      <th>mintempi</th>\n",
       "      <th>meantempi</th>\n",
       "      <th>maxtempi</th>\n",
       "      <th>precipi</th>\n",
       "      <th>thunder</th>\n",
       "    </tr>\n",
       "  </thead>\n",
       "  <tbody>\n",
       "    <tr>\n",
       "      <th>0</th>\n",
       "      <td>0</td>\n",
       "      <td>R001</td>\n",
       "      <td>2011-05-01</td>\n",
       "      <td>01:00:00</td>\n",
       "      <td>1</td>\n",
       "      <td>REGULAR</td>\n",
       "      <td>0.0</td>\n",
       "      <td>0.0</td>\n",
       "      <td>30.31</td>\n",
       "      <td>42.0</td>\n",
       "      <td>...</td>\n",
       "      <td>39.0</td>\n",
       "      <td>30.27</td>\n",
       "      <td>0.0</td>\n",
       "      <td>0.0</td>\n",
       "      <td>5.0</td>\n",
       "      <td>50.0</td>\n",
       "      <td>60.0</td>\n",
       "      <td>69.0</td>\n",
       "      <td>0.0</td>\n",
       "      <td>0.0</td>\n",
       "    </tr>\n",
       "    <tr>\n",
       "      <th>1</th>\n",
       "      <td>1</td>\n",
       "      <td>R001</td>\n",
       "      <td>2011-05-01</td>\n",
       "      <td>05:00:00</td>\n",
       "      <td>5</td>\n",
       "      <td>REGULAR</td>\n",
       "      <td>217.0</td>\n",
       "      <td>553.0</td>\n",
       "      <td>30.31</td>\n",
       "      <td>42.0</td>\n",
       "      <td>...</td>\n",
       "      <td>39.0</td>\n",
       "      <td>30.27</td>\n",
       "      <td>0.0</td>\n",
       "      <td>0.0</td>\n",
       "      <td>5.0</td>\n",
       "      <td>50.0</td>\n",
       "      <td>60.0</td>\n",
       "      <td>69.0</td>\n",
       "      <td>0.0</td>\n",
       "      <td>0.0</td>\n",
       "    </tr>\n",
       "    <tr>\n",
       "      <th>2</th>\n",
       "      <td>2</td>\n",
       "      <td>R001</td>\n",
       "      <td>2011-05-01</td>\n",
       "      <td>09:00:00</td>\n",
       "      <td>9</td>\n",
       "      <td>REGULAR</td>\n",
       "      <td>890.0</td>\n",
       "      <td>1262.0</td>\n",
       "      <td>30.31</td>\n",
       "      <td>42.0</td>\n",
       "      <td>...</td>\n",
       "      <td>39.0</td>\n",
       "      <td>30.27</td>\n",
       "      <td>0.0</td>\n",
       "      <td>0.0</td>\n",
       "      <td>5.0</td>\n",
       "      <td>50.0</td>\n",
       "      <td>60.0</td>\n",
       "      <td>69.0</td>\n",
       "      <td>0.0</td>\n",
       "      <td>0.0</td>\n",
       "    </tr>\n",
       "    <tr>\n",
       "      <th>3</th>\n",
       "      <td>3</td>\n",
       "      <td>R001</td>\n",
       "      <td>2011-05-01</td>\n",
       "      <td>13:00:00</td>\n",
       "      <td>13</td>\n",
       "      <td>REGULAR</td>\n",
       "      <td>2451.0</td>\n",
       "      <td>3708.0</td>\n",
       "      <td>30.31</td>\n",
       "      <td>42.0</td>\n",
       "      <td>...</td>\n",
       "      <td>39.0</td>\n",
       "      <td>30.27</td>\n",
       "      <td>0.0</td>\n",
       "      <td>0.0</td>\n",
       "      <td>5.0</td>\n",
       "      <td>50.0</td>\n",
       "      <td>60.0</td>\n",
       "      <td>69.0</td>\n",
       "      <td>0.0</td>\n",
       "      <td>0.0</td>\n",
       "    </tr>\n",
       "    <tr>\n",
       "      <th>4</th>\n",
       "      <td>4</td>\n",
       "      <td>R001</td>\n",
       "      <td>2011-05-01</td>\n",
       "      <td>17:00:00</td>\n",
       "      <td>17</td>\n",
       "      <td>REGULAR</td>\n",
       "      <td>4400.0</td>\n",
       "      <td>2501.0</td>\n",
       "      <td>30.31</td>\n",
       "      <td>42.0</td>\n",
       "      <td>...</td>\n",
       "      <td>39.0</td>\n",
       "      <td>30.27</td>\n",
       "      <td>0.0</td>\n",
       "      <td>0.0</td>\n",
       "      <td>5.0</td>\n",
       "      <td>50.0</td>\n",
       "      <td>60.0</td>\n",
       "      <td>69.0</td>\n",
       "      <td>0.0</td>\n",
       "      <td>0.0</td>\n",
       "    </tr>\n",
       "  </tbody>\n",
       "</table>\n",
       "<p>5 rows × 22 columns</p>\n",
       "</div>"
      ],
      "text/plain": [
       "   Unnamed: 0  UNIT       DATEn     TIMEn  Hour    DESCn  ENTRIESn_hourly  \\\n",
       "0           0  R001  2011-05-01  01:00:00     1  REGULAR              0.0   \n",
       "1           1  R001  2011-05-01  05:00:00     5  REGULAR            217.0   \n",
       "2           2  R001  2011-05-01  09:00:00     9  REGULAR            890.0   \n",
       "3           3  R001  2011-05-01  13:00:00    13  REGULAR           2451.0   \n",
       "4           4  R001  2011-05-01  17:00:00    17  REGULAR           4400.0   \n",
       "\n",
       "   EXITSn_hourly  maxpressurei  maxdewpti   ...     meandewpti  meanpressurei  \\\n",
       "0            0.0         30.31       42.0   ...           39.0          30.27   \n",
       "1          553.0         30.31       42.0   ...           39.0          30.27   \n",
       "2         1262.0         30.31       42.0   ...           39.0          30.27   \n",
       "3         3708.0         30.31       42.0   ...           39.0          30.27   \n",
       "4         2501.0         30.31       42.0   ...           39.0          30.27   \n",
       "\n",
       "   fog  rain  meanwindspdi  mintempi  meantempi  maxtempi  precipi  thunder  \n",
       "0  0.0   0.0           5.0      50.0       60.0      69.0      0.0      0.0  \n",
       "1  0.0   0.0           5.0      50.0       60.0      69.0      0.0      0.0  \n",
       "2  0.0   0.0           5.0      50.0       60.0      69.0      0.0      0.0  \n",
       "3  0.0   0.0           5.0      50.0       60.0      69.0      0.0      0.0  \n",
       "4  0.0   0.0           5.0      50.0       60.0      69.0      0.0      0.0  \n",
       "\n",
       "[5 rows x 22 columns]"
      ]
     },
     "execution_count": 18,
     "metadata": {},
     "output_type": "execute_result"
    }
   ],
   "source": [
    "import pandas as pd\n",
    "\n",
    "filename = \"turnstile_data_master_with_weather.csv\"\n",
    "\n",
    "df_weather = pd.read_csv(filename)\n",
    "df_weather.head()"
   ]
  },
  {
   "cell_type": "markdown",
   "metadata": {},
   "source": [
    "Agora crie uma função que calcule a quantidade de dias chuvosos, para isso retorne a contagem do numero de dias onde a coluna *\"rain\"* é igual a 1.\n",
    "\n",
    "> **Dica**: Você também pode achar que a interpretação de números como números inteiros ou float pode não      funcionar inicialmente. Para contornar esta questão, pode ser útil converter      esses números para números inteiros. Isso pode ser feito escrevendo cast (coluna como inteiro).      Então, por exemplo, se queríamos lançar a coluna maxtempi como um número inteiro, nós devemos      escrever algo como cast (maxtempi as integer) = 76, em oposição a simplesmente      onde maxtempi = 76."
   ]
  },
  {
   "cell_type": "code",
   "execution_count": 19,
   "metadata": {},
   "outputs": [
    {
     "data": {
      "text/plain": [
       "array([0., 1.])"
      ]
     },
     "execution_count": 19,
     "metadata": {},
     "output_type": "execute_result"
    }
   ],
   "source": [
    "df_weather['rain'].unique()"
   ]
  },
  {
   "cell_type": "code",
   "execution_count": 20,
   "metadata": {},
   "outputs": [
    {
     "data": {
      "text/plain": [
       "44104"
      ]
     },
     "execution_count": 20,
     "metadata": {},
     "output_type": "execute_result"
    }
   ],
   "source": [
    "def num_rainy_days(df):\n",
    "    return len(df.loc[df['rain'] == 1.0])\n",
    "\n",
    "num_rainy_days(df_weather)"
   ]
  },
  {
   "cell_type": "markdown",
   "metadata": {},
   "source": [
    "### *Exercicio 2.3*\n",
    "\n",
    "Calcule se estava nebuloso ou não (0 ou 1) e a temperatura máxima para fog (isto é, a temperatura máxima para dias nebulosos)."
   ]
  },
  {
   "cell_type": "code",
   "execution_count": 21,
   "metadata": {},
   "outputs": [
    {
     "data": {
      "text/plain": [
       "array([0., 1.])"
      ]
     },
     "execution_count": 21,
     "metadata": {},
     "output_type": "execute_result"
    }
   ],
   "source": [
    "df_weather['fog'].unique()"
   ]
  },
  {
   "cell_type": "code",
   "execution_count": 22,
   "metadata": {},
   "outputs": [
    {
     "data": {
      "text/plain": [
       "81.0"
      ]
     },
     "execution_count": 22,
     "metadata": {},
     "output_type": "execute_result"
    }
   ],
   "source": [
    "def max_temp_aggregate_by_fog(df):\n",
    "    return df_weather['maxtempi'].loc[df_weather['fog'] == 1.0].max()\n",
    "\n",
    "max_temp_aggregate_by_fog(df_weather)"
   ]
  },
  {
   "cell_type": "markdown",
   "metadata": {},
   "source": [
    "### *Exercicio 2.4\n",
    "\n",
    "Calcule agora a média de `'meantempi'` nos dias que são sábado ou domingo (finais de semana):"
   ]
  },
  {
   "cell_type": "code",
   "execution_count": 23,
   "metadata": {},
   "outputs": [
    {
     "data": {
      "text/plain": [
       "2"
      ]
     },
     "execution_count": 23,
     "metadata": {},
     "output_type": "execute_result"
    }
   ],
   "source": [
    "adate = datetime.date(17, 8, 23)\n",
    "adate.weekday()"
   ]
  },
  {
   "cell_type": "code",
   "execution_count": 24,
   "metadata": {
    "collapsed": true
   },
   "outputs": [
    {
     "data": {
      "text/plain": [
       "65.10066685403307"
      ]
     },
     "execution_count": 24,
     "metadata": {},
     "output_type": "execute_result"
    }
   ],
   "source": [
    "import numpy as np\n",
    "\n",
    "def avg_weekend_temperature(df, column='meantempi'):\n",
    "    return df[df['DATEn'].apply(is_weekend).isna() == False][column].mean()\n",
    "\n",
    "def validate_date(date_list):\n",
    "    for date in date_list:\n",
    "        if len(date) == 0:\n",
    "            return False\n",
    "    return [int(x) for x in date_list]\n",
    "    \n",
    "def is_weekend(date_str):    \n",
    "    date_list = [x for x in date_str.split(sep='-')]\n",
    "    validated = validate_date(date_list)\n",
    "    if validated:\n",
    "        year, month, day = validated\n",
    "        week_day = datetime.datetime(year, month, day).weekday()\n",
    "        if week_day in (5, 6):\n",
    "            return 1.0\n",
    "    return np.nan\n",
    "    \n",
    "avg_weekend_temperature(df_weather)"
   ]
  },
  {
   "cell_type": "markdown",
   "metadata": {},
   "source": [
    "### *Exercicio 2.5\n",
    "\n",
    "Calcule a média da temperatura mínima `'mintempi'` nos dias chuvosos onde da temperatura mínima foi maior que do 55 graus:"
   ]
  },
  {
   "cell_type": "code",
   "execution_count": 25,
   "metadata": {
    "collapsed": true
   },
   "outputs": [
    {
     "name": "stdout",
     "output_type": "stream",
     "text": [
      "Rows that satisfact first rule: 44104\n",
      "Rows that satisfact second rule: 48125\n"
     ]
    },
    {
     "data": {
      "text/plain": [
       "61.238860398860396"
      ]
     },
     "execution_count": 25,
     "metadata": {},
     "output_type": "execute_result"
    }
   ],
   "source": [
    "def avg_min_temperature(df):\n",
    "    rainy = df['rain'] == 1.0\n",
    "    temp_above = df['mintempi'] > 55\n",
    "    print(f'Rows that satisfact first rule: {len(df[rainy])}')\n",
    "    print(f'Rows that satisfact second rule: {len(df[temp_above])}')\n",
    "    return df['mintempi'].loc[rainy & temp_above].mean()\n",
    "\n",
    "avg_min_temperature(df_weather)"
   ]
  },
  {
   "cell_type": "markdown",
   "metadata": {},
   "source": [
    "### *Exercicio 2.6\n",
    "\n",
    "Antes de realizar qualquer análise, pode ser útil olhar para os dados que esperamos analisar. Mais especificamente, vamos examinar as entradas por hora em nossos dados do metrô de Nova York para determinar a distribuição dos dados. Estes dados são armazenados na coluna `['ENTRIESn_hourly']`.      Trace dois histogramas nos mesmos eixos para mostrar as entradas quando esta chovendo vs quando não está chovendo. Abaixo está um exemplo sobre como traçar histogramas com pandas e matplotlib: \n",
    "```python\n",
    "Turnstile_weather ['column_to_graph']. Hist ()\n",
    "```   \n",
    "    "
   ]
  },
  {
   "cell_type": "code",
   "execution_count": 26,
   "metadata": {
    "collapsed": true
   },
   "outputs": [
    {
     "name": "stdout",
     "output_type": "stream",
     "text": [
      "count    131951.000000\n",
      "mean          0.334245\n",
      "std           0.471728\n",
      "min           0.000000\n",
      "25%           0.000000\n",
      "50%           0.000000\n",
      "75%           1.000000\n",
      "max           1.000000\n",
      "Name: rain, dtype: float64\n"
     ]
    },
    {
     "data": {
      "text/plain": [
       "<Figure size 640x480 with 2 Axes>"
      ]
     },
     "metadata": {},
     "output_type": "display_data"
    }
   ],
   "source": [
    "import numpy as np\n",
    "import pandas\n",
    "import matplotlib.pyplot as plt\n",
    "\n",
    "def entries_histogram(df):\n",
    "    df['ENTRIESn_hourly'].hist(by = df['rain'], range = [0, 8000])\n",
    "    print(df['rain'].describe())\n",
    "    return plt\n",
    "\n",
    "entries_histogram(df_weather)\n",
    "plt.show()\n",
    "#df_weather['ENTRIESn_hourly']"
   ]
  },
  {
   "cell_type": "markdown",
   "metadata": {},
   "source": [
    "### *Exercicio 2.7\n",
    "\n",
    "Os dados que acabou de plotar que tipo de ditribuição? Existe diferença na distribuição entre dias chuvosos e não chuvosos?"
   ]
  },
  {
   "cell_type": "markdown",
   "metadata": {},
   "source": [
    "**Resposta**: Os dados demonstram uma distribuição normal enviesada à direita. Com aparente nenhuma distinção entre as distribuições dos dias chuvosos e não chuvosos "
   ]
  },
  {
   "cell_type": "markdown",
   "metadata": {},
   "source": [
    "### *Exercicio 2.8\n",
    "\n",
    "Construa uma função que que retorne:\n",
    "\n",
    "1. A média das entradas com chuva\n",
    "2. A média das entradas sem chuva\n",
    "\n",
    "\n"
   ]
  },
  {
   "cell_type": "code",
   "execution_count": 27,
   "metadata": {
    "collapsed": true
   },
   "outputs": [
    {
     "data": {
      "text/plain": [
       "(1105.4463767458733, 1090.278780151855)"
      ]
     },
     "execution_count": 27,
     "metadata": {},
     "output_type": "execute_result"
    }
   ],
   "source": [
    "import numpy as np\n",
    "\n",
    "import pandas\n",
    "\n",
    "def means(df):\n",
    "    with_rain_mean = df['ENTRIESn_hourly'].loc[df['rain'] == 1.0].mean()\n",
    "    without_rain_mean = df['ENTRIESn_hourly'].loc[df['rain'] == 0.0].mean()\n",
    "    return with_rain_mean, without_rain_mean#, p # leave this line for the grader\n",
    "\n",
    "means(df_weather)"
   ]
  },
  {
   "cell_type": "markdown",
   "metadata": {},
   "source": [
    "Responda as perguntas abaixo de acordo com a saida das suas funções:\n",
    "\n",
    "1. Qual a média das entradas com chuva?\n",
    "2. Qual a média das entradas sem chuva?\n"
   ]
  },
  {
   "cell_type": "markdown",
   "metadata": {},
   "source": [
    "**Resposta**:\n",
    "\n",
    "1. 1315 entradas é a média em dias com chuva, e\n",
    "2. 1175 entradas é a média em dias sem chuva."
   ]
  },
  {
   "cell_type": "markdown",
   "metadata": {},
   "source": [
    "## Exercicio 3 - Map Reduce\n",
    "\n",
    "### *Exercicio 3.1*\n",
    "\n",
    "A entrada para esse exercício e o mesmo arquivo da sessão anterior (Exercicio 2). Você pode baixar o arquivo neste link:\n",
    "\n",
    " https://s3.amazonaws.com/content.udacity-data.com/courses/ud359/turnstile_data_master_with_weather.csv\n",
    "\n",
    "Varmos criar um mapeador agora. Para cada linha de entrada, a saída do mapeador deve IMPRIMIR (não retornar) a UNIT como uma chave e o número de ENTRIESn_hourly como o valor. Separe a chave e o valor por uma guia. Por exemplo: '`R002\\t105105.0`'\n",
    "\n",
    "Exporte seu mapeador em um arquivo chamado `mapper_result.txt` e envie esse arquivo juntamente com a sua submissão. O código para exportar seu mapeador já está escrito no código abaixo.\n",
    "\n",
    "\n"
   ]
  },
  {
   "cell_type": "code",
   "execution_count": 28,
   "metadata": {},
   "outputs": [
    {
     "data": {
      "text/html": [
       "<div>\n",
       "<style scoped>\n",
       "    .dataframe tbody tr th:only-of-type {\n",
       "        vertical-align: middle;\n",
       "    }\n",
       "\n",
       "    .dataframe tbody tr th {\n",
       "        vertical-align: top;\n",
       "    }\n",
       "\n",
       "    .dataframe thead th {\n",
       "        text-align: right;\n",
       "    }\n",
       "</style>\n",
       "<table border=\"1\" class=\"dataframe\">\n",
       "  <thead>\n",
       "    <tr style=\"text-align: right;\">\n",
       "      <th></th>\n",
       "      <th>Unnamed: 0</th>\n",
       "      <th>UNIT</th>\n",
       "      <th>DATEn</th>\n",
       "      <th>TIMEn</th>\n",
       "      <th>Hour</th>\n",
       "      <th>DESCn</th>\n",
       "      <th>ENTRIESn_hourly</th>\n",
       "      <th>EXITSn_hourly</th>\n",
       "      <th>maxpressurei</th>\n",
       "      <th>maxdewpti</th>\n",
       "      <th>...</th>\n",
       "      <th>meandewpti</th>\n",
       "      <th>meanpressurei</th>\n",
       "      <th>fog</th>\n",
       "      <th>rain</th>\n",
       "      <th>meanwindspdi</th>\n",
       "      <th>mintempi</th>\n",
       "      <th>meantempi</th>\n",
       "      <th>maxtempi</th>\n",
       "      <th>precipi</th>\n",
       "      <th>thunder</th>\n",
       "    </tr>\n",
       "  </thead>\n",
       "  <tbody>\n",
       "    <tr>\n",
       "      <th>0</th>\n",
       "      <td>0</td>\n",
       "      <td>R001</td>\n",
       "      <td>2011-05-01</td>\n",
       "      <td>01:00:00</td>\n",
       "      <td>1</td>\n",
       "      <td>REGULAR</td>\n",
       "      <td>0.0</td>\n",
       "      <td>0.0</td>\n",
       "      <td>30.31</td>\n",
       "      <td>42.0</td>\n",
       "      <td>...</td>\n",
       "      <td>39.0</td>\n",
       "      <td>30.27</td>\n",
       "      <td>0.0</td>\n",
       "      <td>0.0</td>\n",
       "      <td>5.0</td>\n",
       "      <td>50.0</td>\n",
       "      <td>60.0</td>\n",
       "      <td>69.0</td>\n",
       "      <td>0.0</td>\n",
       "      <td>0.0</td>\n",
       "    </tr>\n",
       "    <tr>\n",
       "      <th>1</th>\n",
       "      <td>1</td>\n",
       "      <td>R001</td>\n",
       "      <td>2011-05-01</td>\n",
       "      <td>05:00:00</td>\n",
       "      <td>5</td>\n",
       "      <td>REGULAR</td>\n",
       "      <td>217.0</td>\n",
       "      <td>553.0</td>\n",
       "      <td>30.31</td>\n",
       "      <td>42.0</td>\n",
       "      <td>...</td>\n",
       "      <td>39.0</td>\n",
       "      <td>30.27</td>\n",
       "      <td>0.0</td>\n",
       "      <td>0.0</td>\n",
       "      <td>5.0</td>\n",
       "      <td>50.0</td>\n",
       "      <td>60.0</td>\n",
       "      <td>69.0</td>\n",
       "      <td>0.0</td>\n",
       "      <td>0.0</td>\n",
       "    </tr>\n",
       "    <tr>\n",
       "      <th>2</th>\n",
       "      <td>2</td>\n",
       "      <td>R001</td>\n",
       "      <td>2011-05-01</td>\n",
       "      <td>09:00:00</td>\n",
       "      <td>9</td>\n",
       "      <td>REGULAR</td>\n",
       "      <td>890.0</td>\n",
       "      <td>1262.0</td>\n",
       "      <td>30.31</td>\n",
       "      <td>42.0</td>\n",
       "      <td>...</td>\n",
       "      <td>39.0</td>\n",
       "      <td>30.27</td>\n",
       "      <td>0.0</td>\n",
       "      <td>0.0</td>\n",
       "      <td>5.0</td>\n",
       "      <td>50.0</td>\n",
       "      <td>60.0</td>\n",
       "      <td>69.0</td>\n",
       "      <td>0.0</td>\n",
       "      <td>0.0</td>\n",
       "    </tr>\n",
       "    <tr>\n",
       "      <th>3</th>\n",
       "      <td>3</td>\n",
       "      <td>R001</td>\n",
       "      <td>2011-05-01</td>\n",
       "      <td>13:00:00</td>\n",
       "      <td>13</td>\n",
       "      <td>REGULAR</td>\n",
       "      <td>2451.0</td>\n",
       "      <td>3708.0</td>\n",
       "      <td>30.31</td>\n",
       "      <td>42.0</td>\n",
       "      <td>...</td>\n",
       "      <td>39.0</td>\n",
       "      <td>30.27</td>\n",
       "      <td>0.0</td>\n",
       "      <td>0.0</td>\n",
       "      <td>5.0</td>\n",
       "      <td>50.0</td>\n",
       "      <td>60.0</td>\n",
       "      <td>69.0</td>\n",
       "      <td>0.0</td>\n",
       "      <td>0.0</td>\n",
       "    </tr>\n",
       "    <tr>\n",
       "      <th>4</th>\n",
       "      <td>4</td>\n",
       "      <td>R001</td>\n",
       "      <td>2011-05-01</td>\n",
       "      <td>17:00:00</td>\n",
       "      <td>17</td>\n",
       "      <td>REGULAR</td>\n",
       "      <td>4400.0</td>\n",
       "      <td>2501.0</td>\n",
       "      <td>30.31</td>\n",
       "      <td>42.0</td>\n",
       "      <td>...</td>\n",
       "      <td>39.0</td>\n",
       "      <td>30.27</td>\n",
       "      <td>0.0</td>\n",
       "      <td>0.0</td>\n",
       "      <td>5.0</td>\n",
       "      <td>50.0</td>\n",
       "      <td>60.0</td>\n",
       "      <td>69.0</td>\n",
       "      <td>0.0</td>\n",
       "      <td>0.0</td>\n",
       "    </tr>\n",
       "  </tbody>\n",
       "</table>\n",
       "<p>5 rows × 22 columns</p>\n",
       "</div>"
      ],
      "text/plain": [
       "   Unnamed: 0  UNIT       DATEn     TIMEn  Hour    DESCn  ENTRIESn_hourly  \\\n",
       "0           0  R001  2011-05-01  01:00:00     1  REGULAR              0.0   \n",
       "1           1  R001  2011-05-01  05:00:00     5  REGULAR            217.0   \n",
       "2           2  R001  2011-05-01  09:00:00     9  REGULAR            890.0   \n",
       "3           3  R001  2011-05-01  13:00:00    13  REGULAR           2451.0   \n",
       "4           4  R001  2011-05-01  17:00:00    17  REGULAR           4400.0   \n",
       "\n",
       "   EXITSn_hourly  maxpressurei  maxdewpti   ...     meandewpti  meanpressurei  \\\n",
       "0            0.0         30.31       42.0   ...           39.0          30.27   \n",
       "1          553.0         30.31       42.0   ...           39.0          30.27   \n",
       "2         1262.0         30.31       42.0   ...           39.0          30.27   \n",
       "3         3708.0         30.31       42.0   ...           39.0          30.27   \n",
       "4         2501.0         30.31       42.0   ...           39.0          30.27   \n",
       "\n",
       "   fog  rain  meanwindspdi  mintempi  meantempi  maxtempi  precipi  thunder  \n",
       "0  0.0   0.0           5.0      50.0       60.0      69.0      0.0      0.0  \n",
       "1  0.0   0.0           5.0      50.0       60.0      69.0      0.0      0.0  \n",
       "2  0.0   0.0           5.0      50.0       60.0      69.0      0.0      0.0  \n",
       "3  0.0   0.0           5.0      50.0       60.0      69.0      0.0      0.0  \n",
       "4  0.0   0.0           5.0      50.0       60.0      69.0      0.0      0.0  \n",
       "\n",
       "[5 rows x 22 columns]"
      ]
     },
     "execution_count": 28,
     "metadata": {},
     "output_type": "execute_result"
    }
   ],
   "source": [
    "d = pd.read_csv('turnstile_data_master_with_weather.csv')\n",
    "d.head()"
   ]
  },
  {
   "cell_type": "code",
   "execution_count": 29,
   "metadata": {
    "collapsed": true
   },
   "outputs": [],
   "source": [
    "import sys\n",
    "\n",
    "def mapper():\n",
    "    first_line = True\n",
    "    for line in sys.stdin:\n",
    "        if first_line:\n",
    "            first_line = False\n",
    "        else:\n",
    "            vec = line.split(',')\n",
    "            if len(vec) >= 6:\n",
    "                print(f'{vec[1]}\\t{vec[6]}')\n",
    "\n",
    "sys.stdin = open('turnstile_data_master_with_weather.csv')\n",
    "sys.stdout = open('mapper_result.txt', 'w')\n",
    "mapper()"
   ]
  },
  {
   "cell_type": "markdown",
   "metadata": {},
   "source": [
    "### *Exercicio 3.2*\n",
    "\n",
    "Agora crie o redutor. Dado o resultado do mapeador do exercicio anterior, o redutor deve imprimir(Não retornar) uma linha por `UNIT`, juntamente com o número total de `ENTRIESn_hourly`.Ao longo de maio (que é a duração dos nossos dados), separados por uma guia. Um exemplo de linha de saída do redutor pode ser assim: `R001\\t500625.0`\n",
    "\n",
    "Você pode assumir que a entrada para o redutor está ordenada de tal forma que todas as linhas correspondentes a uma unidade particular são agrupados. No entanto a saida do redutor terá repetição pois existem lojas que aparecem em locais diferentes dos arquivos.\n",
    "\n",
    "Exporte seu redutor em um arquivo chamado reducer_result.txt e envie esse arquivo juntamente com a sua submissão."
   ]
  },
  {
   "cell_type": "code",
   "execution_count": 30,
   "metadata": {
    "collapsed": true
   },
   "outputs": [],
   "source": [
    "def fmt(key, value):\n",
    "    return f'{key}\\t{value}'\n",
    "\n",
    "def reducer():\n",
    "    old_unit = None\n",
    "    accumulator = 0.0\n",
    "    \n",
    "    for line in sys.stdin:\n",
    "        unit, entries = line.split('\\t')\n",
    "        if old_unit == None or unit == old_unit:\n",
    "            accumulator += float(entries)\n",
    "            old_unit = unit\n",
    "        else:\n",
    "            print(fmt(old_unit, accumulator))\n",
    "            accumulator = float(entries)\n",
    "            old_unit = unit\n",
    "    # add last one\n",
    "    print(fmt(old_unit, accumulator))\n",
    "        #print(f'{old_unit == None or unit == old_unit}, unit: {unit}, old_unit: {old_unit}, entries: {entries}')\n",
    "        \n",
    "\n",
    "sys.stdin = open('mapper_result.txt')\n",
    "sys.stdout = open('reducer_result.txt', 'w')\n",
    "reducer()"
   ]
  }
 ],
 "metadata": {
  "celltoolbar": "Edit Metadata",
  "kernelspec": {
   "display_name": "Python 3",
   "language": "python",
   "name": "python3"
  },
  "language_info": {
   "codemirror_mode": {
    "name": "ipython",
    "version": 3
   },
   "file_extension": ".py",
   "mimetype": "text/x-python",
   "name": "python",
   "nbconvert_exporter": "python",
   "pygments_lexer": "ipython3",
   "version": "3.7.1"
  }
 },
 "nbformat": 4,
 "nbformat_minor": 2
}
