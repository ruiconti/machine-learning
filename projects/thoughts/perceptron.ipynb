{
 "cells": [
  {
   "cell_type": "code",
   "execution_count": 4,
   "metadata": {},
   "outputs": [],
   "source": [
    "import pandas as pd\n",
    "import numpy as np"
   ]
  },
  {
   "cell_type": "markdown",
   "metadata": {},
   "source": [
    "O perceptron teve sua implementação inspirada em células biológicas neurais, os neurônios: um modelo biológico de neurônio\n",
    "\n",
    "![title](https://upload.wikimedia.org/wikipedia/commons/4/44/Neuron3.png)\n",
    "\n",
    "Pode-se classificar um neurônio em 3 regiões de importância:\n",
    "\n",
    "1. o **corpo da célula**, que direciona toda a atividade celular\n",
    "2. os **dentritos**, (que parecem os galhos de árvores) que são pequenas fibras que *recebem energia de outros neurons* e transmite pelo corpo da célula\n",
    "3. o **axon**, uma *única* fibra longa que transmite energia do corpo da sua célula para os dentritos de outros neurônio\n",
    "\n",
    "Nosso cérebro abriga uma infinidade de neurônios, aproximadamente uma teia de 100bi células. Se nosso pensamento existe em algum lugar, ele existe devido a essa atividade cerebral que ocorre, em sua menor escala, nos neurônios"
   ]
  },
  {
   "cell_type": "markdown",
   "metadata": {},
   "source": [
    "# O perceptron (1957)\n",
    "\n",
    "Pensado em 1957, uma idéia de 61 anos, foi primeiramente implementada para reconhecimento de imagens. Teve um grande prestígio e controvérsia entre a nascente comunidade acadêmica de inteligência artificial. "
   ]
  }
 ],
 "metadata": {
  "kernelspec": {
   "display_name": "Python 3",
   "language": "python",
   "name": "python3"
  },
  "language_info": {
   "codemirror_mode": {
    "name": "ipython",
    "version": 3
   },
   "file_extension": ".py",
   "mimetype": "text/x-python",
   "name": "python",
   "nbconvert_exporter": "python",
   "pygments_lexer": "ipython3",
   "version": "3.7.0"
  }
 },
 "nbformat": 4,
 "nbformat_minor": 2
}
