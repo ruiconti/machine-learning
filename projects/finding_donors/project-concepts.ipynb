{
 "cells": [
  {
   "cell_type": "markdown",
   "metadata": {},
   "source": [
    "# Finding Donors' project\n",
    "### `supermemo theory`"
   ]
  },
  {
   "cell_type": "markdown",
   "metadata": {},
   "source": [
    "## Transformações\n",
    "\n",
    "### Distribuições enviesadas\n",
    "\n",
    "Muitas vezes nos deparamos com características cuja distribuição é *enviesada* (skewed, em inglês). A idéia, nesta transformação, é tornar a distribuição mais próxima da distribuição normal. Assim, *outliers* não tem uma influência significativa na generalização dos modelos.\n",
    "\n",
    "> **TODO**: Por que é bom normalizar as distribuições? Qual o impacto de distribuições não-normais nos algoritmos de aprendizado de máquina?\n",
    "\n",
    "Há mais de uma forma de se normalizar uma distribuição. A usada neste projeto foi a **transformação logarítmica**.\n",
    "\n",
    "> **TODO**: Aprofundar o entendimento intuitivo de propriedades logarítmicas em distribuições estatísticas\n",
    "\n",
    "\n"
   ]
  },
  {
   "cell_type": "markdown",
   "metadata": {},
   "source": [
    "### Normalização\n",
    "\n",
    "Para as técnicas de aprendizagem supervisionada, o valor **significativo** de uma *feature* é irrelevante. Tudo que o modelo vê são dígitos. Seja duas features $\\bf x_0$ e $\\bf x_1$, que representam a idade e seu salário, respectivamente. A média de $\\bf x_0$ é 31.5 e a de $\\bf x_1$ é 2.900. Como queremos que ambas variáveis influenciem da mesma forma o algoritmo de aprendizagem, surge a técnica de **normalização**. Consiste em **redimensionar** os dados para que todos os seus valores caiam num intervalo de $[0;1] $. Desta forma, **todas as variáveis são tratadas com igual relevância** para se gerar a $f$."
   ]
  },
  {
   "cell_type": "markdown",
   "metadata": {},
   "source": [
    "### One-hot encoding\n",
    "\n",
    "Como mencionado acima, do ponto de vista da máquina, as variáveis são, essencialmente, números. Quando são *categóricas*, ainda sim são transformadas em números em algum estágio da implementação do modelo. Existe uma forma popular de se codificar estas variáveis categóricas em numéricas: o *one-hot encoding*. É simples: para cada variável categórica, são **geradas colunas para todos os seus possíveis valores**. Desta forma, para cada registro,  a coluna cuja categoria ele pertence é preenchida com **1**. \n",
    "\n",
    "**Exemplo**:\n",
    "Considere a feature **`estado_civil`** que pertence à `df`:\n",
    "```\n",
    "df['estado_civil'].unique()\n",
    ">>> ['solteiro, 'casado']\n",
    "df['estado_civil'][12]\n",
    ">>> 'solteiro'\n",
    "``` \n",
    "Após a transformação, a coluna `estado_civil` deixa de existir e passam a existir as colunas `estado_civil_solteiro` e `estado_civil_casado`.\n",
    "```\n",
    "df['estado_civil_solteiro'][12]\n",
    ">>> 1\n",
    "df['estado_civil_casado'][12]\n",
    ">>> 0\n",
    "df['estado_civil']\n",
    "KeyError: 'estado_civil'\n",
    "``` \n",
    "\n",
    "> **TODO**: Analisar a implementação da `RandomForestTree` na parte em que variáveis categóricas são transformadas em numéricas, por default, para comparar a relevância de se realizar esta técnica\n",
    "\n"
   ]
  },
  {
   "cell_type": "markdown",
   "metadata": {},
   "source": [
    "## Métricas de Avaliação\n",
    "\n",
    "Dado um modelo de classificação *binária*, que categoriza um conjunto de dados $X$ em outro conjunto $ y \\in \\{ \\text{infectado, não-infectado} \\}$. Então, para cada ${\\bf x}_i$, sabemos qual seu $y_i$, que aqui chamaremos de *classificação verdadeira* e $\\hat{y}_i$, denominada *classificação preditiva*.\n",
    "\n",
    "Portanto, se ${\\bf x}_i$, $y_i$ e $\\hat{y}_i$. Considere:\n",
    "\n",
    "$TP = \\text{true positive}$, $FP = \\text{false positive}$, $TN = \\text{true negative}$ e $FN = \\text{false negative}$\n",
    "\n",
    "| idade  | sexo  | nacionalidade | peso | $y$ | $y_i$ | $TP$ | $FP$ | $TN$ | $FN$ |\n",
    "|---|---|---|---|---|---|---|---|---|---|---|\n",
    "| 18  | M  | BRA  | 84 | 0 | 0 |...|...|S|...|\n",
    "| 38  | F  | AUS  | 61 | 0 | 1 |...|S|...|...|\n",
    "| 26  | F  | BRA  | 45 | 1 | 1 |S|...|...|...\n",
    "| 21  | F  | USA  | 44 | 0 | 0 |...|...|S|...|\n",
    "| 48  | M  | USA  | 88 | 0 | 1 |...|S|...|...|\n",
    "| 19  | M  | EQU  | 64 | 0 | 0 |...|...|S|...|\n",
    "| 32  | M  | SPA  | 71 | 1 | 0 |...|...|...|S|\n",
    "| 28  | F  | BRA  | 46 | 0 | 1 |...|S|...|...|\n",
    "|... | ... |... | ...|... | ... |...|...|...|...|\n",
    "|N=8|\n",
    "\n",
    "> Obs.: As ocorrências que o modelo **acerta** são prefixadas por *true*, e as que ele erra por *false*."
   ]
  },
  {
   "cell_type": "markdown",
   "metadata": {},
   "source": [
    "## Precisão e acurácia\n",
    "\n",
    "![Precisão e Exatidão](https://danielmiessler.com/images/accurice.png)"
   ]
  },
  {
   "cell_type": "markdown",
   "metadata": {},
   "source": [
    "#### O que é `acurácia`?\n",
    "\n",
    "> **R**: É a proporção total de **previsões corretas** feitas pelo modelo.\n",
    "\n",
    "Ou seja, $$\\text{acurácia = } \\frac{TP+TN}{N} =  \\frac{4}{8}=50\\%$$\n",
    "\n",
    "Avalia o quão corretamente o modelo classificou em todo o conjunto de dados"
   ]
  },
  {
   "cell_type": "markdown",
   "metadata": {},
   "source": [
    "#### O que é `precisão`?\n",
    "> **R**: É a proporção de das previsões que **classificamos como positiva E são verdadeiras** sobre **todas as previsões que classificamos como positiva** (inclusive as que não são verdadeiras).\n",
    "\n",
    "Ou seja, de **todos** os indivíduos que *classificamos como infectados*, qual proporção realmente é infectada? $$\\text{precisão = } \\frac{TP}{TP+FP} = \\frac{1}{4} = 25\\% $$\n",
    "\n",
    "Avalia o quão **preciso** é nosso modelo em classificar corretamente, desconsiderando o número real de infectados"
   ]
  },
  {
   "cell_type": "markdown",
   "metadata": {},
   "source": [
    "#### O que é `recall` (revocação)?\n",
    "\n",
    "> **R**: É a proporção de **previsões** de uma categoria que **classificamos como positiva E são verdadeiras** sobre **todas as previsões que são positivas verdadeiras** (inclusive as que não classificamos como positivas e são)\n",
    "\n",
    "> Ou seja, de todos os indivíduos que estão realmente infectados, classificamos como infectados?\n",
    "\n",
    "$$ \\text{revocação =} \\frac{TP}{TP+FN} = \\frac{1}{2} = 50\\%  $$\n",
    "\n",
    "Avalia o quão **verdadeira** é a nossa classificação, levando em conta o número de infectados reais, desconsiderando as classificações equivocadas do modelo"
   ]
  },
  {
   "cell_type": "markdown",
   "metadata": {},
   "source": [
    "### Qual usar?\n",
    "\n",
    ">>>>"
   ]
  }
 ],
 "metadata": {
  "kernelspec": {
   "display_name": "Python 3",
   "language": "python",
   "name": "python3"
  },
  "language_info": {
   "codemirror_mode": {
    "name": "ipython",
    "version": 3
   },
   "file_extension": ".py",
   "mimetype": "text/x-python",
   "name": "python",
   "nbconvert_exporter": "python",
   "pygments_lexer": "ipython3",
   "version": "3.7.0"
  }
 },
 "nbformat": 4,
 "nbformat_minor": 2
}
